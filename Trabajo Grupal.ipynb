{
 "cells": [
  {
   "cell_type": "code",
   "execution_count": 6,
   "id": "c976d05d-e591-45d0-bbb2-7b4d550a4ab9",
   "metadata": {},
   "outputs": [
    {
     "name": "stdout",
     "output_type": "stream",
     "text": [
      "Collecting langchain_community\n",
      "  Downloading langchain_community-0.3.25-py3-none-any.whl.metadata (2.9 kB)\n",
      "Collecting langchain-core<1.0.0,>=0.3.65 (from langchain_community)\n",
      "  Downloading langchain_core-0.3.65-py3-none-any.whl.metadata (5.8 kB)\n",
      "Collecting langchain<1.0.0,>=0.3.25 (from langchain_community)\n",
      "  Downloading langchain-0.3.25-py3-none-any.whl.metadata (7.8 kB)\n",
      "Requirement already satisfied: SQLAlchemy<3,>=1.4 in c:\\users\\pc\\anaconda3\\lib\\site-packages (from langchain_community) (2.0.25)\n",
      "Requirement already satisfied: requests<3,>=2 in c:\\users\\pc\\anaconda3\\lib\\site-packages (from langchain_community) (2.31.0)\n",
      "Requirement already satisfied: PyYAML>=5.3 in c:\\users\\pc\\anaconda3\\lib\\site-packages (from langchain_community) (6.0.1)\n",
      "Requirement already satisfied: aiohttp<4.0.0,>=3.8.3 in c:\\users\\pc\\anaconda3\\lib\\site-packages (from langchain_community) (3.9.3)\n",
      "Requirement already satisfied: tenacity!=8.4.0,<10,>=8.1.0 in c:\\users\\pc\\anaconda3\\lib\\site-packages (from langchain_community) (8.2.2)\n",
      "Collecting dataclasses-json<0.7,>=0.5.7 (from langchain_community)\n",
      "  Downloading dataclasses_json-0.6.7-py3-none-any.whl.metadata (25 kB)\n",
      "Collecting pydantic-settings<3.0.0,>=2.4.0 (from langchain_community)\n",
      "  Downloading pydantic_settings-2.9.1-py3-none-any.whl.metadata (3.8 kB)\n",
      "Requirement already satisfied: langsmith<0.4,>=0.1.125 in c:\\users\\pc\\anaconda3\\lib\\site-packages (from langchain_community) (0.3.45)\n",
      "Collecting httpx-sse<1.0.0,>=0.4.0 (from langchain_community)\n",
      "  Downloading httpx_sse-0.4.0-py3-none-any.whl.metadata (9.0 kB)\n",
      "Requirement already satisfied: numpy>=1.26.2 in c:\\users\\pc\\anaconda3\\lib\\site-packages (from langchain_community) (1.26.4)\n",
      "Requirement already satisfied: aiosignal>=1.1.2 in c:\\users\\pc\\anaconda3\\lib\\site-packages (from aiohttp<4.0.0,>=3.8.3->langchain_community) (1.2.0)\n",
      "Requirement already satisfied: attrs>=17.3.0 in c:\\users\\pc\\anaconda3\\lib\\site-packages (from aiohttp<4.0.0,>=3.8.3->langchain_community) (23.1.0)\n",
      "Requirement already satisfied: frozenlist>=1.1.1 in c:\\users\\pc\\anaconda3\\lib\\site-packages (from aiohttp<4.0.0,>=3.8.3->langchain_community) (1.4.0)\n",
      "Requirement already satisfied: multidict<7.0,>=4.5 in c:\\users\\pc\\anaconda3\\lib\\site-packages (from aiohttp<4.0.0,>=3.8.3->langchain_community) (6.0.4)\n",
      "Requirement already satisfied: yarl<2.0,>=1.0 in c:\\users\\pc\\anaconda3\\lib\\site-packages (from aiohttp<4.0.0,>=3.8.3->langchain_community) (1.9.3)\n",
      "Collecting marshmallow<4.0.0,>=3.18.0 (from dataclasses-json<0.7,>=0.5.7->langchain_community)\n",
      "  Downloading marshmallow-3.26.1-py3-none-any.whl.metadata (7.3 kB)\n",
      "Collecting typing-inspect<1,>=0.4.0 (from dataclasses-json<0.7,>=0.5.7->langchain_community)\n",
      "  Downloading typing_inspect-0.9.0-py3-none-any.whl.metadata (1.5 kB)\n",
      "Collecting langchain-text-splitters<1.0.0,>=0.3.8 (from langchain<1.0.0,>=0.3.25->langchain_community)\n",
      "  Downloading langchain_text_splitters-0.3.8-py3-none-any.whl.metadata (1.9 kB)\n",
      "Requirement already satisfied: pydantic<3.0.0,>=2.7.4 in c:\\users\\pc\\anaconda3\\lib\\site-packages (from langchain<1.0.0,>=0.3.25->langchain_community) (2.11.5)\n",
      "Requirement already satisfied: jsonpatch<2.0,>=1.33 in c:\\users\\pc\\anaconda3\\lib\\site-packages (from langchain-core<1.0.0,>=0.3.65->langchain_community) (1.33)\n",
      "Requirement already satisfied: packaging<25,>=23.2 in c:\\users\\pc\\anaconda3\\lib\\site-packages (from langchain-core<1.0.0,>=0.3.65->langchain_community) (24.2)\n",
      "Requirement already satisfied: typing-extensions>=4.7 in c:\\users\\pc\\anaconda3\\lib\\site-packages (from langchain-core<1.0.0,>=0.3.65->langchain_community) (4.14.0)\n",
      "Requirement already satisfied: httpx<1,>=0.23.0 in c:\\users\\pc\\anaconda3\\lib\\site-packages (from langsmith<0.4,>=0.1.125->langchain_community) (0.28.1)\n",
      "Requirement already satisfied: orjson<4.0.0,>=3.9.14 in c:\\users\\pc\\anaconda3\\lib\\site-packages (from langsmith<0.4,>=0.1.125->langchain_community) (3.10.18)\n",
      "Requirement already satisfied: requests-toolbelt<2.0.0,>=1.0.0 in c:\\users\\pc\\anaconda3\\lib\\site-packages (from langsmith<0.4,>=0.1.125->langchain_community) (1.0.0)\n",
      "Requirement already satisfied: zstandard<0.24.0,>=0.23.0 in c:\\users\\pc\\anaconda3\\lib\\site-packages (from langsmith<0.4,>=0.1.125->langchain_community) (0.23.0)\n",
      "Requirement already satisfied: python-dotenv>=0.21.0 in c:\\users\\pc\\anaconda3\\lib\\site-packages (from pydantic-settings<3.0.0,>=2.4.0->langchain_community) (0.21.0)\n",
      "Requirement already satisfied: typing-inspection>=0.4.0 in c:\\users\\pc\\anaconda3\\lib\\site-packages (from pydantic-settings<3.0.0,>=2.4.0->langchain_community) (0.4.1)\n",
      "Requirement already satisfied: charset-normalizer<4,>=2 in c:\\users\\pc\\anaconda3\\lib\\site-packages (from requests<3,>=2->langchain_community) (2.0.4)\n",
      "Requirement already satisfied: idna<4,>=2.5 in c:\\users\\pc\\anaconda3\\lib\\site-packages (from requests<3,>=2->langchain_community) (3.4)\n",
      "Requirement already satisfied: urllib3<3,>=1.21.1 in c:\\users\\pc\\anaconda3\\lib\\site-packages (from requests<3,>=2->langchain_community) (2.0.7)\n",
      "Requirement already satisfied: certifi>=2017.4.17 in c:\\users\\pc\\anaconda3\\lib\\site-packages (from requests<3,>=2->langchain_community) (2024.2.2)\n",
      "Requirement already satisfied: greenlet!=0.4.17 in c:\\users\\pc\\anaconda3\\lib\\site-packages (from SQLAlchemy<3,>=1.4->langchain_community) (3.0.1)\n",
      "Requirement already satisfied: anyio in c:\\users\\pc\\anaconda3\\lib\\site-packages (from httpx<1,>=0.23.0->langsmith<0.4,>=0.1.125->langchain_community) (4.2.0)\n",
      "Requirement already satisfied: httpcore==1.* in c:\\users\\pc\\anaconda3\\lib\\site-packages (from httpx<1,>=0.23.0->langsmith<0.4,>=0.1.125->langchain_community) (1.0.9)\n",
      "Requirement already satisfied: h11>=0.16 in c:\\users\\pc\\anaconda3\\lib\\site-packages (from httpcore==1.*->httpx<1,>=0.23.0->langsmith<0.4,>=0.1.125->langchain_community) (0.16.0)\n",
      "Requirement already satisfied: jsonpointer>=1.9 in c:\\users\\pc\\anaconda3\\lib\\site-packages (from jsonpatch<2.0,>=1.33->langchain-core<1.0.0,>=0.3.65->langchain_community) (2.1)\n",
      "Requirement already satisfied: annotated-types>=0.6.0 in c:\\users\\pc\\anaconda3\\lib\\site-packages (from pydantic<3.0.0,>=2.7.4->langchain<1.0.0,>=0.3.25->langchain_community) (0.7.0)\n",
      "Requirement already satisfied: pydantic-core==2.33.2 in c:\\users\\pc\\anaconda3\\lib\\site-packages (from pydantic<3.0.0,>=2.7.4->langchain<1.0.0,>=0.3.25->langchain_community) (2.33.2)\n",
      "Requirement already satisfied: mypy-extensions>=0.3.0 in c:\\users\\pc\\anaconda3\\lib\\site-packages (from typing-inspect<1,>=0.4.0->dataclasses-json<0.7,>=0.5.7->langchain_community) (1.0.0)\n",
      "Requirement already satisfied: sniffio>=1.1 in c:\\users\\pc\\anaconda3\\lib\\site-packages (from anyio->httpx<1,>=0.23.0->langsmith<0.4,>=0.1.125->langchain_community) (1.3.0)\n",
      "Downloading langchain_community-0.3.25-py3-none-any.whl (2.5 MB)\n",
      "   ---------------------------------------- 0.0/2.5 MB ? eta -:--:--\n",
      "   ---------------------------------------- 0.0/2.5 MB ? eta -:--:--\n",
      "    --------------------------------------- 0.1/2.5 MB 812.7 kB/s eta 0:00:04\n",
      "   - -------------------------------------- 0.1/2.5 MB 845.5 kB/s eta 0:00:03\n",
      "   - -------------------------------------- 0.1/2.5 MB 722.1 kB/s eta 0:00:04\n",
      "   -- ------------------------------------- 0.1/2.5 MB 607.9 kB/s eta 0:00:04\n",
      "   --- ------------------------------------ 0.2/2.5 MB 731.4 kB/s eta 0:00:04\n",
      "   ------ --------------------------------- 0.4/2.5 MB 1.3 MB/s eta 0:00:02\n",
      "   --------------- ------------------------ 1.0/2.5 MB 2.8 MB/s eta 0:00:01\n",
      "   --------------------------- ------------ 1.7/2.5 MB 4.2 MB/s eta 0:00:01\n",
      "   -------------------------------------- - 2.4/2.5 MB 5.4 MB/s eta 0:00:01\n",
      "   ---------------------------------------- 2.5/2.5 MB 5.4 MB/s eta 0:00:00\n",
      "Downloading dataclasses_json-0.6.7-py3-none-any.whl (28 kB)\n",
      "Downloading httpx_sse-0.4.0-py3-none-any.whl (7.8 kB)\n",
      "Downloading langchain-0.3.25-py3-none-any.whl (1.0 MB)\n",
      "   ---------------------------------------- 0.0/1.0 MB ? eta -:--:--\n",
      "   -------------------------- ------------- 0.7/1.0 MB 21.1 MB/s eta 0:00:01\n",
      "   ---------------------------------------- 1.0/1.0 MB 16.1 MB/s eta 0:00:00\n",
      "Downloading langchain_core-0.3.65-py3-none-any.whl (438 kB)\n",
      "   ---------------------------------------- 0.0/438.1 kB ? eta -:--:--\n",
      "   --------------------------------------- 438.1/438.1 kB 13.8 MB/s eta 0:00:00\n",
      "Downloading pydantic_settings-2.9.1-py3-none-any.whl (44 kB)\n",
      "   ---------------------------------------- 0.0/44.4 kB ? eta -:--:--\n",
      "   ---------------------------------------- 44.4/44.4 kB ? eta 0:00:00\n",
      "Downloading langchain_text_splitters-0.3.8-py3-none-any.whl (32 kB)\n",
      "Downloading marshmallow-3.26.1-py3-none-any.whl (50 kB)\n",
      "   ---------------------------------------- 0.0/50.9 kB ? eta -:--:--\n",
      "   ---------------------------------------- 50.9/50.9 kB ? eta 0:00:00\n",
      "Downloading typing_inspect-0.9.0-py3-none-any.whl (8.8 kB)\n",
      "Installing collected packages: typing-inspect, marshmallow, httpx-sse, dataclasses-json, pydantic-settings, langchain-core, langchain-text-splitters, langchain, langchain_community\n",
      "  Attempting uninstall: langchain-core\n",
      "    Found existing installation: langchain-core 0.3.64\n",
      "    Uninstalling langchain-core-0.3.64:\n",
      "      Successfully uninstalled langchain-core-0.3.64\n",
      "Successfully installed dataclasses-json-0.6.7 httpx-sse-0.4.0 langchain-0.3.25 langchain-core-0.3.65 langchain-text-splitters-0.3.8 langchain_community-0.3.25 marshmallow-3.26.1 pydantic-settings-2.9.1 typing-inspect-0.9.0\n",
      "Requirement already satisfied: pypdf in c:\\users\\pc\\anaconda3\\lib\\site-packages (5.6.0)\n"
     ]
    }
   ],
   "source": [
    "!pip install langchain_community  \n",
    "!pip install pypdf"
   ]
  },
  {
   "cell_type": "code",
   "execution_count": null,
   "id": "3a10aa48-fb72-4f68-b536-fcafe3290aed",
   "metadata": {},
   "outputs": [],
   "source": [
    "pip install -qU langchain-ollama"
   ]
  },
  {
   "cell_type": "code",
   "execution_count": null,
   "id": "b1ed4ae4-499a-4d4c-b2d8-51152a132b45",
   "metadata": {},
   "outputs": [],
   "source": [
    "!pip install langchain-groq"
   ]
  },
  {
   "cell_type": "code",
   "execution_count": 12,
   "id": "e726f11b-efa0-4c6b-bb1c-85cc1f2b4131",
   "metadata": {},
   "outputs": [],
   "source": [
    "import os\n",
    "\n",
    "from pydantic import BaseModel, Field\n",
    "from langchain_core.output_parsers import JsonOutputParser\n",
    "from langchain.prompts import PromptTemplate\n",
    "from langchain.chains import LLMChain"
   ]
  },
  {
   "cell_type": "code",
   "execution_count": 8,
   "id": "39a2f142-ae42-4c06-b9ab-c3857adc5cd7",
   "metadata": {},
   "outputs": [],
   "source": [
    "from langchain.prompts import PromptTemplate\n",
    "from langchain.chains import LLMChain\n",
    "from langchain_groq import ChatGroq"
   ]
  },
  {
   "cell_type": "code",
   "execution_count": 1,
   "id": "491a4eb7-187b-494b-a566-09505c4da788",
   "metadata": {},
   "outputs": [],
   "source": [
    "file_path='SM 980E-5 SN A50003-A50051--A50054-A50136--A50141 & UP (CEBM033006).pdf'  "
   ]
  },
  {
   "cell_type": "code",
   "execution_count": 2,
   "id": "f2dbdfb9-6d91-457a-958a-d884f28abf05",
   "metadata": {},
   "outputs": [],
   "source": [
    "from langchain_community.document_loaders import PyPDFLoader  # desde la libreria langchain_community voy a importar,  la clase PyPDFLoader   # una clase es un objeto que tiene atributos y metodos\n",
    "\n",
    "loader = PyPDFLoader(file_path)  # se pasa la ruta del archivo el pdf, en este la ruta de arriba\n",
    "pages = []     # se crea una lista vacia llamada pages\n",
    "async for page in loader.alazy_load(): # para cada pagina en el loader (que es quien obtiene el cargador del pdf)\n",
    "    pages.append(page)   # se agrega cada pagina , a la lista pages"
   ]
  },
  {
   "cell_type": "code",
   "execution_count": 3,
   "id": "c4e82e0b-381a-4116-a17c-0ca353d51698",
   "metadata": {},
   "outputs": [
    {
     "data": {
      "text/plain": [
       "1395"
      ]
     },
     "execution_count": 3,
     "metadata": {},
     "output_type": "execute_result"
    }
   ],
   "source": [
    "len(pages) # cantidad de paginas"
   ]
  },
  {
   "cell_type": "code",
   "execution_count": 4,
   "id": "834af481-fff6-4a6c-8561-e3de3c0ed3c4",
   "metadata": {},
   "outputs": [],
   "source": [
    "from langchain_ollama import OllamaEmbeddings\n",
    "\n",
    "embeddings = OllamaEmbeddings(\n",
    "    model=\"llama3\",\n",
    ")"
   ]
  },
  {
   "cell_type": "code",
   "execution_count": 5,
   "id": "08e873dc-7353-4a8f-a43f-fa8e789fd4c8",
   "metadata": {},
   "outputs": [
    {
     "data": {
      "text/plain": [
       "'10 Structure and functions CEN10067-01\\n7\\nNOTE: The pilot valve/hoist valve hydraulic circuit is\\nrouted through the bleeddown manifold located on the\\nleft frame rail. The hois t limit solenoid and pilot\\noperated check valve described below are contained\\nin the manifold. Refer to Structure, functions and\\nmaintenance standard section Steering circuit  for\\nmore information about the bleeddown manifold.\\nHoist limit solenoid\\nHoist limit solenoid (5, Figure 10-5), located in the\\nbleeddown manifold, is used in the hydraulic circuit to\\nprevent maximum hoist cylinder extension.\\nThe 3-way valve solenoid valve is controlled by a\\nproximity switch (hoist limit  switch) located near the\\nbody pivot and the right rear suspension upper mount.\\nWhen the body is nearly fully raised, the body\\nactivates the magnetic proximity switch, signaling the\\nsolenoid to open the “raise” pilot line to the tank, and\\nclose the “raise” pilot line to the hoist valve, thus\\nstopping further oil flow to the hoist cylinders.\\nPilot operated check valve\\nPilot operated check valve (6, Figure 10-5), located in\\nthe bleeddown manifold, is opened by power down\\npilot pressure to allow oil in the raise port to bypass the\\nhoist limit solenoid for in itial power down operation\\nwhile the solenoid is activated by the hoist limit switch. Overcenter manifold\\nOvercenter manifold (3, Figure 10-2) contains\\ncounterbalance valve (2), which controls the pressure\\nof the cushion of oil in the annulus area of the hoist\\ncylinder when the body approaches the maximum\\ndump angle. The counterbalance valve limits the\\nmaximum pressure buildup by relieving pressure in\\nexcess of 20 700 kPa (3,000 psi), preventing possible\\nseal damage.\\nQuick disconnect fittings (4) allow dumping of the load\\nin a disabled truck by conn ecting jumper hoses to the\\nhydraulic system of an operational truck.\\nFIGURE 10-5. BLEEDDOWN MANIFOLD\\n1. Hoist Limit Solenoid 2. Pilot operated \\ncheck valve\\n1\\n2\\n86247'"
      ]
     },
     "execution_count": 5,
     "metadata": {},
     "output_type": "execute_result"
    }
   ],
   "source": [
    "from langchain_core.vectorstores import InMemoryVectorStore\n",
    "\n",
    "question = \"what happends if water gets inside the connector?\"\n",
    "\n",
    "pages_new = [page.page_content for page in pages][116]\n",
    "vectorstore = InMemoryVectorStore.from_texts(\n",
    "    [pages_new],\n",
    "    embedding=embeddings,\n",
    ")\n",
    "\n",
    "\n",
    "retriever = vectorstore.as_retriever()\n",
    "\n",
    "\n",
    "retrieved_documents = retriever.invoke(question)\n",
    "\n",
    "\n",
    "retrieved_documents[0].page_content"
   ]
  },
  {
   "cell_type": "code",
   "execution_count": 6,
   "id": "07a04317-f4f0-487f-89fc-7c5dbe0dd077",
   "metadata": {},
   "outputs": [
    {
     "data": {
      "text/plain": [
       "Document(id='4eef34d6-fd07-49eb-a14c-04b4a4a064fa', metadata={}, page_content='10 Structure and functions CEN10067-01\\n7\\nNOTE: The pilot valve/hoist valve hydraulic circuit is\\nrouted through the bleeddown manifold located on the\\nleft frame rail. The hois t limit solenoid and pilot\\noperated check valve described below are contained\\nin the manifold. Refer to Structure, functions and\\nmaintenance standard section Steering circuit  for\\nmore information about the bleeddown manifold.\\nHoist limit solenoid\\nHoist limit solenoid (5, Figure 10-5), located in the\\nbleeddown manifold, is used in the hydraulic circuit to\\nprevent maximum hoist cylinder extension.\\nThe 3-way valve solenoid valve is controlled by a\\nproximity switch (hoist limit  switch) located near the\\nbody pivot and the right rear suspension upper mount.\\nWhen the body is nearly fully raised, the body\\nactivates the magnetic proximity switch, signaling the\\nsolenoid to open the “raise” pilot line to the tank, and\\nclose the “raise” pilot line to the hoist valve, thus\\nstopping further oil flow to the hoist cylinders.\\nPilot operated check valve\\nPilot operated check valve (6, Figure 10-5), located in\\nthe bleeddown manifold, is opened by power down\\npilot pressure to allow oil in the raise port to bypass the\\nhoist limit solenoid for in itial power down operation\\nwhile the solenoid is activated by the hoist limit switch. Overcenter manifold\\nOvercenter manifold (3, Figure 10-2) contains\\ncounterbalance valve (2), which controls the pressure\\nof the cushion of oil in the annulus area of the hoist\\ncylinder when the body approaches the maximum\\ndump angle. The counterbalance valve limits the\\nmaximum pressure buildup by relieving pressure in\\nexcess of 20 700 kPa (3,000 psi), preventing possible\\nseal damage.\\nQuick disconnect fittings (4) allow dumping of the load\\nin a disabled truck by conn ecting jumper hoses to the\\nhydraulic system of an operational truck.\\nFIGURE 10-5. BLEEDDOWN MANIFOLD\\n1. Hoist Limit Solenoid 2. Pilot operated \\ncheck valve\\n1\\n2\\n86247')"
      ]
     },
     "execution_count": 6,
     "metadata": {},
     "output_type": "execute_result"
    }
   ],
   "source": [
    "retrieved_documents[0]"
   ]
  },
  {
   "cell_type": "code",
   "execution_count": 19,
   "id": "aaf35c24-304c-4650-adb5-01f8cdca51d5",
   "metadata": {},
   "outputs": [],
   "source": [
    "\n",
    "llm = ChatGroq(\n",
    "    temperature=0,\n",
    "    model_name=\"llama3-8b-8192\",\n",
    "    groq_api_key=\"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\"\n",
    ")\n"
   ]
  },
  {
   "cell_type": "code",
   "execution_count": 20,
   "id": "559b3c50-f407-4869-8dd0-e0b9f9eff6b5",
   "metadata": {},
   "outputs": [],
   "source": [
    "TEMPLATE=\"\"\"\n",
    "Responde la pregunta {pregunta} en base a la información del\n",
    "{texto}\n",
    "\n",
    "El formato de salida debe ser el siguiente:{format_instructions}\n",
    "\"\"\""
   ]
  },
  {
   "cell_type": "code",
   "execution_count": 21,
   "id": "f58132ca-db32-4fd6-bc9b-a30e8d54dbbd",
   "metadata": {},
   "outputs": [],
   "source": [
    "class ContentGenScript(BaseModel):\n",
    "    respuesta: str = Field(description=\"Respuesta\")\n",
    "\n",
    "\n",
    "parser= JsonOutputParser(pydantic_object=ContentGenScript)"
   ]
  },
  {
   "cell_type": "code",
   "execution_count": 22,
   "id": "06bc7eab-e893-4d37-8e61-95e72d951544",
   "metadata": {},
   "outputs": [
    {
     "data": {
      "text/plain": [
       "{'respuesta': 'Water inside the connector can cause damage to the hydraulic system and potentially lead to a loss of control or failure of the hoist system.'}"
      ]
     },
     "execution_count": 22,
     "metadata": {},
     "output_type": "execute_result"
    }
   ],
   "source": [
    "prompt = PromptTemplate(\n",
    "    input_variables=[\"texto\",\"pregunta\"],\n",
    "    template=TEMPLATE,\n",
    "    partial_variables={\"format_instructions\": parser.get_format_instructions()},\n",
    ")\n",
    "\n",
    "\n",
    "chain = LLMChain(llm=llm, prompt=prompt, output_parser=parser) #objeto que concatena todo y permite ejecutar\n",
    "\n",
    "texto = str(retrieved_documents)\n",
    "\n",
    "pregunta = question\n",
    "\n",
    "result = chain.invoke({\"texto\": texto, \"pregunta\":pregunta})\n",
    "\n",
    "result['text']"
   ]
  },
  {
   "cell_type": "code",
   "execution_count": 18,
   "id": "77d27f87-d499-47d5-ae96-26aab955b8e5",
   "metadata": {},
   "outputs": [
    {
     "name": "stdout",
     "output_type": "stream",
     "text": [
      "[Document(id='4eef34d6-fd07-49eb-a14c-04b4a4a064fa', metadata={}, page_content='10 Structure and functions CEN10067-01\\n7\\nNOTE: The pilot valve/hoist valve hydraulic circuit is\\nrouted through the bleeddown manifold located on the\\nleft frame rail. The hois t limit solenoid and pilot\\noperated check valve described below are contained\\nin the manifold. Refer to Structure, functions and\\nmaintenance standard section Steering circuit  for\\nmore information about the bleeddown manifold.\\nHoist limit solenoid\\nHoist limit solenoid (5, Figure 10-5), located in the\\nbleeddown manifold, is used in the hydraulic circuit to\\nprevent maximum hoist cylinder extension.\\nThe 3-way valve solenoid valve is controlled by a\\nproximity switch (hoist limit  switch) located near the\\nbody pivot and the right rear suspension upper mount.\\nWhen the body is nearly fully raised, the body\\nactivates the magnetic proximity switch, signaling the\\nsolenoid to open the “raise” pilot line to the tank, and\\nclose the “raise” pilot line to the hoist valve, thus\\nstopping further oil flow to the hoist cylinders.\\nPilot operated check valve\\nPilot operated check valve (6, Figure 10-5), located in\\nthe bleeddown manifold, is opened by power down\\npilot pressure to allow oil in the raise port to bypass the\\nhoist limit solenoid for in itial power down operation\\nwhile the solenoid is activated by the hoist limit switch. Overcenter manifold\\nOvercenter manifold (3, Figure 10-2) contains\\ncounterbalance valve (2), which controls the pressure\\nof the cushion of oil in the annulus area of the hoist\\ncylinder when the body approaches the maximum\\ndump angle. The counterbalance valve limits the\\nmaximum pressure buildup by relieving pressure in\\nexcess of 20 700 kPa (3,000 psi), preventing possible\\nseal damage.\\nQuick disconnect fittings (4) allow dumping of the load\\nin a disabled truck by conn ecting jumper hoses to the\\nhydraulic system of an operational truck.\\nFIGURE 10-5. BLEEDDOWN MANIFOLD\\n1. Hoist Limit Solenoid 2. Pilot operated \\ncheck valve\\n1\\n2\\n86247')]\n"
     ]
    }
   ],
   "source": [
    "print(texto)"
   ]
  },
  {
   "cell_type": "code",
   "execution_count": null,
   "id": "5a3cc39e-b8fa-4a30-a40b-17440fa18acf",
   "metadata": {},
   "outputs": [],
   "source": []
  }
 ],
 "metadata": {
  "kernelspec": {
   "display_name": "Python 3 (ipykernel)",
   "language": "python",
   "name": "python3"
  },
  "language_info": {
   "codemirror_mode": {
    "name": "ipython",
    "version": 3
   },
   "file_extension": ".py",
   "mimetype": "text/x-python",
   "name": "python",
   "nbconvert_exporter": "python",
   "pygments_lexer": "ipython3",
   "version": "3.11.7"
  }
 },
 "nbformat": 4,
 "nbformat_minor": 5
}
